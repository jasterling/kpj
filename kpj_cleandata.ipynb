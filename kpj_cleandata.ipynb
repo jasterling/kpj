{
 "cells": [
  {
   "cell_type": "markdown",
   "metadata": {},
   "source": [
    "# JS to-do list:\n",
    "1. read in multiple files... ensure averaging values of each (day, week, hour), not summing them all.\n",
    "2. graph..."
   ]
  },
  {
   "cell_type": "code",
   "execution_count": 4,
   "metadata": {},
   "outputs": [],
   "source": [
    "# print_function for compatibility with Python 3\n",
    "#from __future__ import print_function \n",
    "#print('Print function from python 3')\n",
    "\n",
    "# NumPy for numerical computing\n",
    "import numpy as np\n",
    "\n",
    "# Pandas for DataFrames\n",
    "import pandas as pd\n",
    "\n",
    "# Matplotlib for visualization\n",
    "import matplotlib.pyplot as plt\n",
    "\n",
    "# display plots in the notebook\n",
    "%matplotlib inline\n",
    "\n",
    "# Seaborn for easier visualization\n",
    "#import seaborn as sns\n",
    "\n",
    "#import calendar\n",
    "import datetime"
   ]
  },
  {
   "cell_type": "code",
   "execution_count": 5,
   "metadata": {},
   "outputs": [
    {
     "name": "stdout",
     "output_type": "stream",
     "text": [
      "<class 'pandas.core.frame.DataFrame'>\n",
      "RangeIndex: 199116 entries, 0 to 199115\n",
      "Data columns (total 11 columns):\n",
      "C/A                                                                     199116 non-null object\n",
      "UNIT                                                                    199116 non-null object\n",
      "SCP                                                                     199116 non-null object\n",
      "STATION                                                                 199116 non-null object\n",
      "LINENAME                                                                199116 non-null object\n",
      "DIVISION                                                                199116 non-null object\n",
      "DATE                                                                    199116 non-null object\n",
      "TIME                                                                    199116 non-null object\n",
      "DESC                                                                    199116 non-null object\n",
      "ENTRIES                                                                 199116 non-null int64\n",
      "EXITS                                                                   199116 non-null int64\n",
      "dtypes: int64(2), object(9)\n",
      "memory usage: 16.7+ MB\n"
     ]
    }
   ],
   "source": [
    "# list of .txt files to be read\n",
    "txt_docs_list = ['turnstile_180310.txt', 'turnstile_180317.txt','turnstile_180324.txt', \n",
    "                 'turnstile_180331.txt', 'turnstile_180407.txt']\n",
    "\n",
    "# reading in the files\n",
    "df_list = []\n",
    "for each in range(1):\n",
    "    df_list.append(pd.read_csv(txt_docs_list[each]))\n",
    "    \n",
    "# concatenating the DFs together as 'df'\n",
    "df = pd.concat(df_list)\n",
    "df.info()"
   ]
  },
  {
   "cell_type": "code",
   "execution_count": 6,
   "metadata": {},
   "outputs": [],
   "source": [
    "df.columns = df.columns.str.strip()"
   ]
  },
  {
   "cell_type": "code",
   "execution_count": 7,
   "metadata": {},
   "outputs": [
    {
     "data": {
      "text/html": [
       "<div>\n",
       "<style scoped>\n",
       "    .dataframe tbody tr th:only-of-type {\n",
       "        vertical-align: middle;\n",
       "    }\n",
       "\n",
       "    .dataframe tbody tr th {\n",
       "        vertical-align: top;\n",
       "    }\n",
       "\n",
       "    .dataframe thead th {\n",
       "        text-align: right;\n",
       "    }\n",
       "</style>\n",
       "<table border=\"1\" class=\"dataframe\">\n",
       "  <thead>\n",
       "    <tr style=\"text-align: right;\">\n",
       "      <th></th>\n",
       "      <th>C/A</th>\n",
       "      <th>UNIT</th>\n",
       "      <th>SCP</th>\n",
       "      <th>STATION</th>\n",
       "      <th>DATE</th>\n",
       "      <th>TIME</th>\n",
       "      <th>DESC</th>\n",
       "      <th>ENTRIES</th>\n",
       "      <th>EXITS</th>\n",
       "      <th>turnstile_id</th>\n",
       "      <th>date</th>\n",
       "      <th>DATE_TIME</th>\n",
       "    </tr>\n",
       "  </thead>\n",
       "  <tbody>\n",
       "    <tr>\n",
       "      <th>23058</th>\n",
       "      <td>C020</td>\n",
       "      <td>R233</td>\n",
       "      <td>00-06-00</td>\n",
       "      <td>53 ST</td>\n",
       "      <td>03/05/2018</td>\n",
       "      <td>11:00:00</td>\n",
       "      <td>REGULAR</td>\n",
       "      <td>26861</td>\n",
       "      <td>117315</td>\n",
       "      <td>C020_R233_00-06-00_53 ST</td>\n",
       "      <td>2018-03-05</td>\n",
       "      <td>2018-03-05 11:00:00</td>\n",
       "    </tr>\n",
       "    <tr>\n",
       "      <th>193799</th>\n",
       "      <td>R630</td>\n",
       "      <td>R066</td>\n",
       "      <td>00-00-02</td>\n",
       "      <td>JUNIUS ST</td>\n",
       "      <td>03/03/2018</td>\n",
       "      <td>19:00:00</td>\n",
       "      <td>REGULAR</td>\n",
       "      <td>5515352</td>\n",
       "      <td>5944294</td>\n",
       "      <td>R630_R066_00-00-02_JUNIUS ST</td>\n",
       "      <td>2018-03-03</td>\n",
       "      <td>2018-03-03 19:00:00</td>\n",
       "    </tr>\n",
       "    <tr>\n",
       "      <th>74572</th>\n",
       "      <td>N301</td>\n",
       "      <td>R113</td>\n",
       "      <td>00-00-01</td>\n",
       "      <td>7 AV</td>\n",
       "      <td>03/06/2018</td>\n",
       "      <td>20:00:00</td>\n",
       "      <td>REGULAR</td>\n",
       "      <td>3660194</td>\n",
       "      <td>4791069</td>\n",
       "      <td>N301_R113_00-00-01_7 AV</td>\n",
       "      <td>2018-03-06</td>\n",
       "      <td>2018-03-06 20:00:00</td>\n",
       "    </tr>\n",
       "    <tr>\n",
       "      <th>104583</th>\n",
       "      <td>N554</td>\n",
       "      <td>R423</td>\n",
       "      <td>01-04-01</td>\n",
       "      <td>AVENUE N</td>\n",
       "      <td>03/07/2018</td>\n",
       "      <td>00:00:00</td>\n",
       "      <td>REGULAR</td>\n",
       "      <td>0</td>\n",
       "      <td>380</td>\n",
       "      <td>N554_R423_01-04-01_AVENUE N</td>\n",
       "      <td>2018-03-07</td>\n",
       "      <td>2018-03-07 00:00:00</td>\n",
       "    </tr>\n",
       "    <tr>\n",
       "      <th>76908</th>\n",
       "      <td>N306</td>\n",
       "      <td>R017</td>\n",
       "      <td>00-03-02</td>\n",
       "      <td>LEXINGTON AV/53</td>\n",
       "      <td>03/09/2018</td>\n",
       "      <td>23:00:00</td>\n",
       "      <td>REGULAR</td>\n",
       "      <td>11990926</td>\n",
       "      <td>12423290</td>\n",
       "      <td>N306_R017_00-03-02_LEXINGTON AV/53</td>\n",
       "      <td>2018-03-09</td>\n",
       "      <td>2018-03-09 23:00:00</td>\n",
       "    </tr>\n",
       "    <tr>\n",
       "      <th>20668</th>\n",
       "      <td>C008</td>\n",
       "      <td>R099</td>\n",
       "      <td>00-06-02</td>\n",
       "      <td>DEKALB AV</td>\n",
       "      <td>03/08/2018</td>\n",
       "      <td>03:00:00</td>\n",
       "      <td>REGULAR</td>\n",
       "      <td>6302857</td>\n",
       "      <td>1747902</td>\n",
       "      <td>C008_R099_00-06-02_DEKALB AV</td>\n",
       "      <td>2018-03-08</td>\n",
       "      <td>2018-03-08 03:00:00</td>\n",
       "    </tr>\n",
       "    <tr>\n",
       "      <th>135369</th>\n",
       "      <td>R158</td>\n",
       "      <td>R084</td>\n",
       "      <td>00-05-00</td>\n",
       "      <td>59 ST COLUMBUS</td>\n",
       "      <td>03/04/2018</td>\n",
       "      <td>07:00:00</td>\n",
       "      <td>REGULAR</td>\n",
       "      <td>4648648</td>\n",
       "      <td>742037</td>\n",
       "      <td>R158_R084_00-05-00_59 ST COLUMBUS</td>\n",
       "      <td>2018-03-04</td>\n",
       "      <td>2018-03-04 07:00:00</td>\n",
       "    </tr>\n",
       "    <tr>\n",
       "      <th>143209</th>\n",
       "      <td>R194</td>\n",
       "      <td>R040</td>\n",
       "      <td>00-00-00</td>\n",
       "      <td>231 ST</td>\n",
       "      <td>03/06/2018</td>\n",
       "      <td>15:00:00</td>\n",
       "      <td>REGULAR</td>\n",
       "      <td>7038815</td>\n",
       "      <td>294718</td>\n",
       "      <td>R194_R040_00-00-00_231 ST</td>\n",
       "      <td>2018-03-06</td>\n",
       "      <td>2018-03-06 15:00:00</td>\n",
       "    </tr>\n",
       "    <tr>\n",
       "      <th>61049</th>\n",
       "      <td>N103</td>\n",
       "      <td>R127</td>\n",
       "      <td>00-06-02</td>\n",
       "      <td>JAY ST-METROTEC</td>\n",
       "      <td>03/09/2018</td>\n",
       "      <td>23:00:00</td>\n",
       "      <td>REGULAR</td>\n",
       "      <td>11052353</td>\n",
       "      <td>2461166</td>\n",
       "      <td>N103_R127_00-06-02_JAY ST-METROTEC</td>\n",
       "      <td>2018-03-09</td>\n",
       "      <td>2018-03-09 23:00:00</td>\n",
       "    </tr>\n",
       "    <tr>\n",
       "      <th>29513</th>\n",
       "      <td>H001</td>\n",
       "      <td>R175</td>\n",
       "      <td>00-00-04</td>\n",
       "      <td>8 AV</td>\n",
       "      <td>03/03/2018</td>\n",
       "      <td>04:00:00</td>\n",
       "      <td>REGULAR</td>\n",
       "      <td>7428540</td>\n",
       "      <td>5877184</td>\n",
       "      <td>H001_R175_00-00-04_8 AV</td>\n",
       "      <td>2018-03-03</td>\n",
       "      <td>2018-03-03 04:00:00</td>\n",
       "    </tr>\n",
       "  </tbody>\n",
       "</table>\n",
       "</div>"
      ],
      "text/plain": [
       "         C/A  UNIT       SCP          STATION        DATE      TIME     DESC  \\\n",
       "23058   C020  R233  00-06-00            53 ST  03/05/2018  11:00:00  REGULAR   \n",
       "193799  R630  R066  00-00-02        JUNIUS ST  03/03/2018  19:00:00  REGULAR   \n",
       "74572   N301  R113  00-00-01             7 AV  03/06/2018  20:00:00  REGULAR   \n",
       "104583  N554  R423  01-04-01         AVENUE N  03/07/2018  00:00:00  REGULAR   \n",
       "76908   N306  R017  00-03-02  LEXINGTON AV/53  03/09/2018  23:00:00  REGULAR   \n",
       "20668   C008  R099  00-06-02        DEKALB AV  03/08/2018  03:00:00  REGULAR   \n",
       "135369  R158  R084  00-05-00   59 ST COLUMBUS  03/04/2018  07:00:00  REGULAR   \n",
       "143209  R194  R040  00-00-00           231 ST  03/06/2018  15:00:00  REGULAR   \n",
       "61049   N103  R127  00-06-02  JAY ST-METROTEC  03/09/2018  23:00:00  REGULAR   \n",
       "29513   H001  R175  00-00-04             8 AV  03/03/2018  04:00:00  REGULAR   \n",
       "\n",
       "         ENTRIES     EXITS                        turnstile_id       date  \\\n",
       "23058      26861    117315            C020_R233_00-06-00_53 ST 2018-03-05   \n",
       "193799   5515352   5944294        R630_R066_00-00-02_JUNIUS ST 2018-03-03   \n",
       "74572    3660194   4791069             N301_R113_00-00-01_7 AV 2018-03-06   \n",
       "104583         0       380         N554_R423_01-04-01_AVENUE N 2018-03-07   \n",
       "76908   11990926  12423290  N306_R017_00-03-02_LEXINGTON AV/53 2018-03-09   \n",
       "20668    6302857   1747902        C008_R099_00-06-02_DEKALB AV 2018-03-08   \n",
       "135369   4648648    742037   R158_R084_00-05-00_59 ST COLUMBUS 2018-03-04   \n",
       "143209   7038815    294718           R194_R040_00-00-00_231 ST 2018-03-06   \n",
       "61049   11052353   2461166  N103_R127_00-06-02_JAY ST-METROTEC 2018-03-09   \n",
       "29513    7428540   5877184             H001_R175_00-00-04_8 AV 2018-03-03   \n",
       "\n",
       "                 DATE_TIME  \n",
       "23058  2018-03-05 11:00:00  \n",
       "193799 2018-03-03 19:00:00  \n",
       "74572  2018-03-06 20:00:00  \n",
       "104583 2018-03-07 00:00:00  \n",
       "76908  2018-03-09 23:00:00  \n",
       "20668  2018-03-08 03:00:00  \n",
       "135369 2018-03-04 07:00:00  \n",
       "143209 2018-03-06 15:00:00  \n",
       "61049  2018-03-09 23:00:00  \n",
       "29513  2018-03-03 04:00:00  "
      ]
     },
     "execution_count": 7,
     "metadata": {},
     "output_type": "execute_result"
    }
   ],
   "source": [
    "df['turnstile_id'] = df['C/A'] + '_' + df['UNIT'] + '_' + df['SCP'] + '_' + df['STATION']\n",
    "df['date'] = pd.to_datetime(df['DATE'], format='%m/%d/%Y')\n",
    "df['DATE_TIME'] = df['DATE'] + '_' + df['TIME']\n",
    "df['DATE_TIME'] = pd.to_datetime(df['DATE_TIME'],format=\"%m/%d/%Y_%H:%M:%S\")\n",
    "df.drop(['LINENAME', 'DIVISION'], axis=1, inplace=True)\n",
    "df.sample(10)"
   ]
  },
  {
   "cell_type": "code",
   "execution_count": 8,
   "metadata": {},
   "outputs": [
    {
     "data": {
      "text/plain": [
       "{'RECOVR AUD', 'REGULAR'}"
      ]
     },
     "execution_count": 8,
     "metadata": {},
     "output_type": "execute_result"
    }
   ],
   "source": [
    "set(df.DESC.values)"
   ]
  },
  {
   "cell_type": "code",
   "execution_count": 9,
   "metadata": {},
   "outputs": [
    {
     "name": "stdout",
     "output_type": "stream",
     "text": [
      "count    8.870000e+02\n",
      "mean     4.211066e+07\n",
      "std      2.309341e+08\n",
      "min      0.000000e+00\n",
      "25%      3.937950e+05\n",
      "50%      1.145803e+06\n",
      "75%      6.672870e+06\n",
      "max      1.953175e+09\n",
      "Name: ENTRIES, dtype: float64 count    1.982290e+05\n",
      "mean     3.970970e+07\n",
      "std      2.072129e+08\n",
      "min      0.000000e+00\n",
      "25%      5.052810e+05\n",
      "50%      2.601478e+06\n",
      "75%      6.922074e+06\n",
      "max      2.130056e+09\n",
      "Name: ENTRIES, dtype: float64\n"
     ]
    }
   ],
   "source": [
    "# check if DESC column means anything... it doesn't\n",
    "df_recov = df[df.DESC == 'RECOVR AUD']\n",
    "df_regul = df[df.DESC == 'REGULAR']\n",
    "print(df_recov.ENTRIES.describe(), df_regul.ENTRIES.describe())"
   ]
  },
  {
   "cell_type": "markdown",
   "metadata": {},
   "source": [
    "## Scrappy build of new df ('df_final') with ENTRIES/EXITS counts"
   ]
  },
  {
   "cell_type": "code",
   "execution_count": 10,
   "metadata": {},
   "outputs": [],
   "source": [
    "df_temp=df[['turnstile_id','date','DATE_TIME','ENTRIES','EXITS','STATION', 'DATE', 'TIME']]"
   ]
  },
  {
   "cell_type": "code",
   "execution_count": 11,
   "metadata": {},
   "outputs": [
    {
     "name": "stdout",
     "output_type": "stream",
     "text": [
      "<class 'pandas.core.frame.DataFrame'>\n",
      "RangeIndex: 199116 entries, 0 to 199115\n",
      "Data columns (total 8 columns):\n",
      "turnstile_id    199116 non-null object\n",
      "date            199116 non-null datetime64[ns]\n",
      "DATE_TIME       199116 non-null datetime64[ns]\n",
      "ENTRIES         199116 non-null int64\n",
      "EXITS           199116 non-null int64\n",
      "STATION         199116 non-null object\n",
      "DATE            199116 non-null object\n",
      "TIME            199116 non-null object\n",
      "dtypes: datetime64[ns](2), int64(2), object(4)\n",
      "memory usage: 12.2+ MB\n"
     ]
    }
   ],
   "source": [
    "df_temp.info()"
   ]
  },
  {
   "cell_type": "code",
   "execution_count": 12,
   "metadata": {},
   "outputs": [
    {
     "data": {
      "text/html": [
       "<div>\n",
       "<style scoped>\n",
       "    .dataframe tbody tr th:only-of-type {\n",
       "        vertical-align: middle;\n",
       "    }\n",
       "\n",
       "    .dataframe tbody tr th {\n",
       "        vertical-align: top;\n",
       "    }\n",
       "\n",
       "    .dataframe thead th {\n",
       "        text-align: right;\n",
       "    }\n",
       "</style>\n",
       "<table border=\"1\" class=\"dataframe\">\n",
       "  <thead>\n",
       "    <tr style=\"text-align: right;\">\n",
       "      <th></th>\n",
       "      <th>turnstile_id</th>\n",
       "      <th>date</th>\n",
       "      <th>DATE_TIME</th>\n",
       "      <th>ENTRIES</th>\n",
       "      <th>EXITS</th>\n",
       "      <th>STATION</th>\n",
       "      <th>DATE</th>\n",
       "      <th>TIME</th>\n",
       "    </tr>\n",
       "  </thead>\n",
       "  <tbody>\n",
       "    <tr>\n",
       "      <th>179206</th>\n",
       "      <td>R515_R095_00-00-03_ASTORIA DITMARS</td>\n",
       "      <td>2018-03-07</td>\n",
       "      <td>2018-03-07 15:00:00</td>\n",
       "      <td>1377583</td>\n",
       "      <td>271904</td>\n",
       "      <td>ASTORIA DITMARS</td>\n",
       "      <td>03/07/2018</td>\n",
       "      <td>15:00:00</td>\n",
       "    </tr>\n",
       "    <tr>\n",
       "      <th>155987</th>\n",
       "      <td>R243_R049_00-00-01_51 ST</td>\n",
       "      <td>2018-03-09</td>\n",
       "      <td>2018-03-09 19:00:00</td>\n",
       "      <td>729150</td>\n",
       "      <td>1101693</td>\n",
       "      <td>51 ST</td>\n",
       "      <td>03/09/2018</td>\n",
       "      <td>19:00:00</td>\n",
       "    </tr>\n",
       "    <tr>\n",
       "      <th>9852</th>\n",
       "      <td>A053_R088_03-05-00_CORTLANDT ST</td>\n",
       "      <td>2018-03-04</td>\n",
       "      <td>2018-03-04 00:00:00</td>\n",
       "      <td>851986</td>\n",
       "      <td>0</td>\n",
       "      <td>CORTLANDT ST</td>\n",
       "      <td>03/04/2018</td>\n",
       "      <td>00:00:00</td>\n",
       "    </tr>\n",
       "    <tr>\n",
       "      <th>101265</th>\n",
       "      <td>N534_R220_01-06-00_CARROLL ST</td>\n",
       "      <td>2018-03-05</td>\n",
       "      <td>2018-03-05 03:00:00</td>\n",
       "      <td>3489680</td>\n",
       "      <td>2318829</td>\n",
       "      <td>CARROLL ST</td>\n",
       "      <td>03/05/2018</td>\n",
       "      <td>03:00:00</td>\n",
       "    </tr>\n",
       "    <tr>\n",
       "      <th>106108</th>\n",
       "      <td>N600_R302_00-06-02_57 ST</td>\n",
       "      <td>2018-03-07</td>\n",
       "      <td>2018-03-07 16:00:00</td>\n",
       "      <td>136421834</td>\n",
       "      <td>1533733</td>\n",
       "      <td>57 ST</td>\n",
       "      <td>03/07/2018</td>\n",
       "      <td>16:00:00</td>\n",
       "    </tr>\n",
       "    <tr>\n",
       "      <th>188256</th>\n",
       "      <td>R604_R108_03-00-04_BOROUGH HALL</td>\n",
       "      <td>2018-03-09</td>\n",
       "      <td>2018-03-09 03:00:00</td>\n",
       "      <td>7053700</td>\n",
       "      <td>2604176</td>\n",
       "      <td>BOROUGH HALL</td>\n",
       "      <td>03/09/2018</td>\n",
       "      <td>03:00:00</td>\n",
       "    </tr>\n",
       "    <tr>\n",
       "      <th>187576</th>\n",
       "      <td>R601A_R108_02-00-05_BOROUGH HALL</td>\n",
       "      <td>2018-03-08</td>\n",
       "      <td>2018-03-08 07:00:00</td>\n",
       "      <td>3660377</td>\n",
       "      <td>5689499</td>\n",
       "      <td>BOROUGH HALL</td>\n",
       "      <td>03/08/2018</td>\n",
       "      <td>07:00:00</td>\n",
       "    </tr>\n",
       "    <tr>\n",
       "      <th>120246</th>\n",
       "      <td>PTH18_R549_01-02-00_NEWARK BM BW</td>\n",
       "      <td>2018-03-03</td>\n",
       "      <td>2018-03-03 00:49:26</td>\n",
       "      <td>93591</td>\n",
       "      <td>7482</td>\n",
       "      <td>NEWARK BM BW</td>\n",
       "      <td>03/03/2018</td>\n",
       "      <td>00:49:26</td>\n",
       "    </tr>\n",
       "    <tr>\n",
       "      <th>123089</th>\n",
       "      <td>PTH22_R540_00-03-01_PATH NEW WTC</td>\n",
       "      <td>2018-03-07</td>\n",
       "      <td>2018-03-07 15:00:23</td>\n",
       "      <td>85751</td>\n",
       "      <td>102863</td>\n",
       "      <td>PATH NEW WTC</td>\n",
       "      <td>03/07/2018</td>\n",
       "      <td>15:00:23</td>\n",
       "    </tr>\n",
       "    <tr>\n",
       "      <th>20467</th>\n",
       "      <td>C008_R099_00-04-00_DEKALB AV</td>\n",
       "      <td>2018-03-03</td>\n",
       "      <td>2018-03-03 23:00:00</td>\n",
       "      <td>7408</td>\n",
       "      <td>0</td>\n",
       "      <td>DEKALB AV</td>\n",
       "      <td>03/03/2018</td>\n",
       "      <td>23:00:00</td>\n",
       "    </tr>\n",
       "  </tbody>\n",
       "</table>\n",
       "</div>"
      ],
      "text/plain": [
       "                              turnstile_id       date           DATE_TIME  \\\n",
       "179206  R515_R095_00-00-03_ASTORIA DITMARS 2018-03-07 2018-03-07 15:00:00   \n",
       "155987            R243_R049_00-00-01_51 ST 2018-03-09 2018-03-09 19:00:00   \n",
       "9852       A053_R088_03-05-00_CORTLANDT ST 2018-03-04 2018-03-04 00:00:00   \n",
       "101265       N534_R220_01-06-00_CARROLL ST 2018-03-05 2018-03-05 03:00:00   \n",
       "106108            N600_R302_00-06-02_57 ST 2018-03-07 2018-03-07 16:00:00   \n",
       "188256     R604_R108_03-00-04_BOROUGH HALL 2018-03-09 2018-03-09 03:00:00   \n",
       "187576    R601A_R108_02-00-05_BOROUGH HALL 2018-03-08 2018-03-08 07:00:00   \n",
       "120246    PTH18_R549_01-02-00_NEWARK BM BW 2018-03-03 2018-03-03 00:49:26   \n",
       "123089    PTH22_R540_00-03-01_PATH NEW WTC 2018-03-07 2018-03-07 15:00:23   \n",
       "20467         C008_R099_00-04-00_DEKALB AV 2018-03-03 2018-03-03 23:00:00   \n",
       "\n",
       "          ENTRIES    EXITS          STATION        DATE      TIME  \n",
       "179206    1377583   271904  ASTORIA DITMARS  03/07/2018  15:00:00  \n",
       "155987     729150  1101693            51 ST  03/09/2018  19:00:00  \n",
       "9852       851986        0     CORTLANDT ST  03/04/2018  00:00:00  \n",
       "101265    3489680  2318829       CARROLL ST  03/05/2018  03:00:00  \n",
       "106108  136421834  1533733            57 ST  03/07/2018  16:00:00  \n",
       "188256    7053700  2604176     BOROUGH HALL  03/09/2018  03:00:00  \n",
       "187576    3660377  5689499     BOROUGH HALL  03/08/2018  07:00:00  \n",
       "120246      93591     7482     NEWARK BM BW  03/03/2018  00:49:26  \n",
       "123089      85751   102863     PATH NEW WTC  03/07/2018  15:00:23  \n",
       "20467        7408        0        DEKALB AV  03/03/2018  23:00:00  "
      ]
     },
     "execution_count": 12,
     "metadata": {},
     "output_type": "execute_result"
    }
   ],
   "source": [
    "df_temp.sample(10)"
   ]
  },
  {
   "cell_type": "code",
   "execution_count": 13,
   "metadata": {},
   "outputs": [],
   "source": [
    "df_temp1=(df_temp\n",
    " .sort_values(by=['turnstile_id','DATE_TIME'])\n",
    " .groupby(['turnstile_id','date','STATION'])\n",
    " .diff())"
   ]
  },
  {
   "cell_type": "code",
   "execution_count": 14,
   "metadata": {},
   "outputs": [
    {
     "data": {
      "text/html": [
       "<div>\n",
       "<style scoped>\n",
       "    .dataframe tbody tr th:only-of-type {\n",
       "        vertical-align: middle;\n",
       "    }\n",
       "\n",
       "    .dataframe tbody tr th {\n",
       "        vertical-align: top;\n",
       "    }\n",
       "\n",
       "    .dataframe thead th {\n",
       "        text-align: right;\n",
       "    }\n",
       "</style>\n",
       "<table border=\"1\" class=\"dataframe\">\n",
       "  <thead>\n",
       "    <tr style=\"text-align: right;\">\n",
       "      <th></th>\n",
       "      <th>DATE_TIME</th>\n",
       "      <th>ENTRIES</th>\n",
       "      <th>EXITS</th>\n",
       "    </tr>\n",
       "  </thead>\n",
       "  <tbody>\n",
       "    <tr>\n",
       "      <th>0</th>\n",
       "      <td>NaT</td>\n",
       "      <td>NaN</td>\n",
       "      <td>NaN</td>\n",
       "    </tr>\n",
       "    <tr>\n",
       "      <th>1</th>\n",
       "      <td>04:00:00</td>\n",
       "      <td>11.0</td>\n",
       "      <td>11.0</td>\n",
       "    </tr>\n",
       "    <tr>\n",
       "      <th>2</th>\n",
       "      <td>04:00:00</td>\n",
       "      <td>52.0</td>\n",
       "      <td>80.0</td>\n",
       "    </tr>\n",
       "    <tr>\n",
       "      <th>3</th>\n",
       "      <td>04:00:00</td>\n",
       "      <td>183.0</td>\n",
       "      <td>45.0</td>\n",
       "    </tr>\n",
       "    <tr>\n",
       "      <th>4</th>\n",
       "      <td>04:00:00</td>\n",
       "      <td>278.0</td>\n",
       "      <td>50.0</td>\n",
       "    </tr>\n",
       "    <tr>\n",
       "      <th>5</th>\n",
       "      <td>04:00:00</td>\n",
       "      <td>161.0</td>\n",
       "      <td>31.0</td>\n",
       "    </tr>\n",
       "    <tr>\n",
       "      <th>6</th>\n",
       "      <td>NaT</td>\n",
       "      <td>NaN</td>\n",
       "      <td>NaN</td>\n",
       "    </tr>\n",
       "    <tr>\n",
       "      <th>7</th>\n",
       "      <td>04:00:00</td>\n",
       "      <td>8.0</td>\n",
       "      <td>9.0</td>\n",
       "    </tr>\n",
       "    <tr>\n",
       "      <th>8</th>\n",
       "      <td>04:00:00</td>\n",
       "      <td>50.0</td>\n",
       "      <td>47.0</td>\n",
       "    </tr>\n",
       "    <tr>\n",
       "      <th>9</th>\n",
       "      <td>04:00:00</td>\n",
       "      <td>147.0</td>\n",
       "      <td>43.0</td>\n",
       "    </tr>\n",
       "  </tbody>\n",
       "</table>\n",
       "</div>"
      ],
      "text/plain": [
       "  DATE_TIME  ENTRIES  EXITS\n",
       "0       NaT      NaN    NaN\n",
       "1  04:00:00     11.0   11.0\n",
       "2  04:00:00     52.0   80.0\n",
       "3  04:00:00    183.0   45.0\n",
       "4  04:00:00    278.0   50.0\n",
       "5  04:00:00    161.0   31.0\n",
       "6       NaT      NaN    NaN\n",
       "7  04:00:00      8.0    9.0\n",
       "8  04:00:00     50.0   47.0\n",
       "9  04:00:00    147.0   43.0"
      ]
     },
     "execution_count": 14,
     "metadata": {},
     "output_type": "execute_result"
    }
   ],
   "source": [
    "df_temp1.head(10)"
   ]
  },
  {
   "cell_type": "code",
   "execution_count": 18,
   "metadata": {
    "scrolled": true
   },
   "outputs": [],
   "source": [
    "#print(df_temp1.turnstile_id[156050])\n",
    "#print(df_temp2.turnstile_id[156050])"
   ]
  },
  {
   "cell_type": "code",
   "execution_count": 19,
   "metadata": {},
   "outputs": [],
   "source": [
    "# Here we are rebuilding our new df with ENTRIES/EXITS counts (from .diff()) and all other relevant information\n",
    "df_temp2=(df_temp\n",
    " .sort_values(by=['turnstile_id','DATE_TIME']))"
   ]
  },
  {
   "cell_type": "code",
   "execution_count": 20,
   "metadata": {},
   "outputs": [
    {
     "data": {
      "text/html": [
       "<div>\n",
       "<style scoped>\n",
       "    .dataframe tbody tr th:only-of-type {\n",
       "        vertical-align: middle;\n",
       "    }\n",
       "\n",
       "    .dataframe tbody tr th {\n",
       "        vertical-align: top;\n",
       "    }\n",
       "\n",
       "    .dataframe thead th {\n",
       "        text-align: right;\n",
       "    }\n",
       "</style>\n",
       "<table border=\"1\" class=\"dataframe\">\n",
       "  <thead>\n",
       "    <tr style=\"text-align: right;\">\n",
       "      <th></th>\n",
       "      <th>turnstile_id</th>\n",
       "      <th>date</th>\n",
       "      <th>DATE_TIME</th>\n",
       "      <th>ENTRIES</th>\n",
       "      <th>EXITS</th>\n",
       "      <th>STATION</th>\n",
       "      <th>DATE</th>\n",
       "      <th>TIME</th>\n",
       "    </tr>\n",
       "  </thead>\n",
       "  <tbody>\n",
       "    <tr>\n",
       "      <th>0</th>\n",
       "      <td>A002_R051_02-00-00_59 ST</td>\n",
       "      <td>2018-03-03</td>\n",
       "      <td>2018-03-03 03:00:00</td>\n",
       "      <td>6535802</td>\n",
       "      <td>2213345</td>\n",
       "      <td>59 ST</td>\n",
       "      <td>03/03/2018</td>\n",
       "      <td>03:00:00</td>\n",
       "    </tr>\n",
       "    <tr>\n",
       "      <th>1</th>\n",
       "      <td>A002_R051_02-00-00_59 ST</td>\n",
       "      <td>2018-03-03</td>\n",
       "      <td>2018-03-03 07:00:00</td>\n",
       "      <td>6535813</td>\n",
       "      <td>2213356</td>\n",
       "      <td>59 ST</td>\n",
       "      <td>03/03/2018</td>\n",
       "      <td>07:00:00</td>\n",
       "    </tr>\n",
       "    <tr>\n",
       "      <th>2</th>\n",
       "      <td>A002_R051_02-00-00_59 ST</td>\n",
       "      <td>2018-03-03</td>\n",
       "      <td>2018-03-03 11:00:00</td>\n",
       "      <td>6535865</td>\n",
       "      <td>2213436</td>\n",
       "      <td>59 ST</td>\n",
       "      <td>03/03/2018</td>\n",
       "      <td>11:00:00</td>\n",
       "    </tr>\n",
       "    <tr>\n",
       "      <th>3</th>\n",
       "      <td>A002_R051_02-00-00_59 ST</td>\n",
       "      <td>2018-03-03</td>\n",
       "      <td>2018-03-03 15:00:00</td>\n",
       "      <td>6536048</td>\n",
       "      <td>2213481</td>\n",
       "      <td>59 ST</td>\n",
       "      <td>03/03/2018</td>\n",
       "      <td>15:00:00</td>\n",
       "    </tr>\n",
       "    <tr>\n",
       "      <th>4</th>\n",
       "      <td>A002_R051_02-00-00_59 ST</td>\n",
       "      <td>2018-03-03</td>\n",
       "      <td>2018-03-03 19:00:00</td>\n",
       "      <td>6536326</td>\n",
       "      <td>2213531</td>\n",
       "      <td>59 ST</td>\n",
       "      <td>03/03/2018</td>\n",
       "      <td>19:00:00</td>\n",
       "    </tr>\n",
       "  </tbody>\n",
       "</table>\n",
       "</div>"
      ],
      "text/plain": [
       "               turnstile_id       date           DATE_TIME  ENTRIES    EXITS  \\\n",
       "0  A002_R051_02-00-00_59 ST 2018-03-03 2018-03-03 03:00:00  6535802  2213345   \n",
       "1  A002_R051_02-00-00_59 ST 2018-03-03 2018-03-03 07:00:00  6535813  2213356   \n",
       "2  A002_R051_02-00-00_59 ST 2018-03-03 2018-03-03 11:00:00  6535865  2213436   \n",
       "3  A002_R051_02-00-00_59 ST 2018-03-03 2018-03-03 15:00:00  6536048  2213481   \n",
       "4  A002_R051_02-00-00_59 ST 2018-03-03 2018-03-03 19:00:00  6536326  2213531   \n",
       "\n",
       "  STATION        DATE      TIME  \n",
       "0   59 ST  03/03/2018  03:00:00  \n",
       "1   59 ST  03/03/2018  07:00:00  \n",
       "2   59 ST  03/03/2018  11:00:00  \n",
       "3   59 ST  03/03/2018  15:00:00  \n",
       "4   59 ST  03/03/2018  19:00:00  "
      ]
     },
     "execution_count": 20,
     "metadata": {},
     "output_type": "execute_result"
    }
   ],
   "source": [
    "df_temp2.head()"
   ]
  },
  {
   "cell_type": "code",
   "execution_count": 21,
   "metadata": {},
   "outputs": [],
   "source": [
    "df_temp1['turnstile_id']=df_temp2['turnstile_id']"
   ]
  },
  {
   "cell_type": "code",
   "execution_count": 22,
   "metadata": {},
   "outputs": [],
   "source": [
    "df_temp1['STATION']=df_temp2['STATION']"
   ]
  },
  {
   "cell_type": "code",
   "execution_count": 23,
   "metadata": {},
   "outputs": [],
   "source": [
    "df_temp1['date']=df_temp2['date']\n",
    "df_temp1['DATE_TIME']=df_temp2['DATE_TIME']"
   ]
  },
  {
   "cell_type": "code",
   "execution_count": 24,
   "metadata": {},
   "outputs": [
    {
     "data": {
      "text/html": [
       "<div>\n",
       "<style scoped>\n",
       "    .dataframe tbody tr th:only-of-type {\n",
       "        vertical-align: middle;\n",
       "    }\n",
       "\n",
       "    .dataframe tbody tr th {\n",
       "        vertical-align: top;\n",
       "    }\n",
       "\n",
       "    .dataframe thead th {\n",
       "        text-align: right;\n",
       "    }\n",
       "</style>\n",
       "<table border=\"1\" class=\"dataframe\">\n",
       "  <thead>\n",
       "    <tr style=\"text-align: right;\">\n",
       "      <th></th>\n",
       "      <th>DATE_TIME</th>\n",
       "      <th>ENTRIES</th>\n",
       "      <th>EXITS</th>\n",
       "      <th>turnstile_id</th>\n",
       "      <th>STATION</th>\n",
       "      <th>date</th>\n",
       "    </tr>\n",
       "  </thead>\n",
       "  <tbody>\n",
       "    <tr>\n",
       "      <th>0</th>\n",
       "      <td>2018-03-03 03:00:00</td>\n",
       "      <td>NaN</td>\n",
       "      <td>NaN</td>\n",
       "      <td>A002_R051_02-00-00_59 ST</td>\n",
       "      <td>59 ST</td>\n",
       "      <td>2018-03-03</td>\n",
       "    </tr>\n",
       "    <tr>\n",
       "      <th>1</th>\n",
       "      <td>2018-03-03 07:00:00</td>\n",
       "      <td>11.0</td>\n",
       "      <td>11.0</td>\n",
       "      <td>A002_R051_02-00-00_59 ST</td>\n",
       "      <td>59 ST</td>\n",
       "      <td>2018-03-03</td>\n",
       "    </tr>\n",
       "    <tr>\n",
       "      <th>2</th>\n",
       "      <td>2018-03-03 11:00:00</td>\n",
       "      <td>52.0</td>\n",
       "      <td>80.0</td>\n",
       "      <td>A002_R051_02-00-00_59 ST</td>\n",
       "      <td>59 ST</td>\n",
       "      <td>2018-03-03</td>\n",
       "    </tr>\n",
       "    <tr>\n",
       "      <th>3</th>\n",
       "      <td>2018-03-03 15:00:00</td>\n",
       "      <td>183.0</td>\n",
       "      <td>45.0</td>\n",
       "      <td>A002_R051_02-00-00_59 ST</td>\n",
       "      <td>59 ST</td>\n",
       "      <td>2018-03-03</td>\n",
       "    </tr>\n",
       "    <tr>\n",
       "      <th>4</th>\n",
       "      <td>2018-03-03 19:00:00</td>\n",
       "      <td>278.0</td>\n",
       "      <td>50.0</td>\n",
       "      <td>A002_R051_02-00-00_59 ST</td>\n",
       "      <td>59 ST</td>\n",
       "      <td>2018-03-03</td>\n",
       "    </tr>\n",
       "    <tr>\n",
       "      <th>5</th>\n",
       "      <td>2018-03-03 23:00:00</td>\n",
       "      <td>161.0</td>\n",
       "      <td>31.0</td>\n",
       "      <td>A002_R051_02-00-00_59 ST</td>\n",
       "      <td>59 ST</td>\n",
       "      <td>2018-03-03</td>\n",
       "    </tr>\n",
       "    <tr>\n",
       "      <th>6</th>\n",
       "      <td>2018-03-04 03:00:00</td>\n",
       "      <td>NaN</td>\n",
       "      <td>NaN</td>\n",
       "      <td>A002_R051_02-00-00_59 ST</td>\n",
       "      <td>59 ST</td>\n",
       "      <td>2018-03-04</td>\n",
       "    </tr>\n",
       "    <tr>\n",
       "      <th>7</th>\n",
       "      <td>2018-03-04 07:00:00</td>\n",
       "      <td>8.0</td>\n",
       "      <td>9.0</td>\n",
       "      <td>A002_R051_02-00-00_59 ST</td>\n",
       "      <td>59 ST</td>\n",
       "      <td>2018-03-04</td>\n",
       "    </tr>\n",
       "    <tr>\n",
       "      <th>8</th>\n",
       "      <td>2018-03-04 11:00:00</td>\n",
       "      <td>50.0</td>\n",
       "      <td>47.0</td>\n",
       "      <td>A002_R051_02-00-00_59 ST</td>\n",
       "      <td>59 ST</td>\n",
       "      <td>2018-03-04</td>\n",
       "    </tr>\n",
       "    <tr>\n",
       "      <th>9</th>\n",
       "      <td>2018-03-04 15:00:00</td>\n",
       "      <td>147.0</td>\n",
       "      <td>43.0</td>\n",
       "      <td>A002_R051_02-00-00_59 ST</td>\n",
       "      <td>59 ST</td>\n",
       "      <td>2018-03-04</td>\n",
       "    </tr>\n",
       "  </tbody>\n",
       "</table>\n",
       "</div>"
      ],
      "text/plain": [
       "            DATE_TIME  ENTRIES  EXITS              turnstile_id STATION  \\\n",
       "0 2018-03-03 03:00:00      NaN    NaN  A002_R051_02-00-00_59 ST   59 ST   \n",
       "1 2018-03-03 07:00:00     11.0   11.0  A002_R051_02-00-00_59 ST   59 ST   \n",
       "2 2018-03-03 11:00:00     52.0   80.0  A002_R051_02-00-00_59 ST   59 ST   \n",
       "3 2018-03-03 15:00:00    183.0   45.0  A002_R051_02-00-00_59 ST   59 ST   \n",
       "4 2018-03-03 19:00:00    278.0   50.0  A002_R051_02-00-00_59 ST   59 ST   \n",
       "5 2018-03-03 23:00:00    161.0   31.0  A002_R051_02-00-00_59 ST   59 ST   \n",
       "6 2018-03-04 03:00:00      NaN    NaN  A002_R051_02-00-00_59 ST   59 ST   \n",
       "7 2018-03-04 07:00:00      8.0    9.0  A002_R051_02-00-00_59 ST   59 ST   \n",
       "8 2018-03-04 11:00:00     50.0   47.0  A002_R051_02-00-00_59 ST   59 ST   \n",
       "9 2018-03-04 15:00:00    147.0   43.0  A002_R051_02-00-00_59 ST   59 ST   \n",
       "\n",
       "        date  \n",
       "0 2018-03-03  \n",
       "1 2018-03-03  \n",
       "2 2018-03-03  \n",
       "3 2018-03-03  \n",
       "4 2018-03-03  \n",
       "5 2018-03-03  \n",
       "6 2018-03-04  \n",
       "7 2018-03-04  \n",
       "8 2018-03-04  \n",
       "9 2018-03-04  "
      ]
     },
     "execution_count": 24,
     "metadata": {},
     "output_type": "execute_result"
    }
   ],
   "source": [
    "df_temp1.head(10)"
   ]
  },
  {
   "cell_type": "code",
   "execution_count": 25,
   "metadata": {},
   "outputs": [],
   "source": [
    "df_temp1.dropna(axis=0,inplace=True)"
   ]
  },
  {
   "cell_type": "markdown",
   "metadata": {},
   "source": [
    "# 'df_final' with ENTRIES/EXITS counts"
   ]
  },
  {
   "cell_type": "code",
   "execution_count": 26,
   "metadata": {},
   "outputs": [],
   "source": [
    "df_final=df_temp1[['ENTRIES', 'EXITS','turnstile_id','STATION','date', 'DATE_TIME']]"
   ]
  },
  {
   "cell_type": "code",
   "execution_count": 27,
   "metadata": {},
   "outputs": [
    {
     "data": {
      "text/html": [
       "<div>\n",
       "<style scoped>\n",
       "    .dataframe tbody tr th:only-of-type {\n",
       "        vertical-align: middle;\n",
       "    }\n",
       "\n",
       "    .dataframe tbody tr th {\n",
       "        vertical-align: top;\n",
       "    }\n",
       "\n",
       "    .dataframe thead th {\n",
       "        text-align: right;\n",
       "    }\n",
       "</style>\n",
       "<table border=\"1\" class=\"dataframe\">\n",
       "  <thead>\n",
       "    <tr style=\"text-align: right;\">\n",
       "      <th></th>\n",
       "      <th>ENTRIES</th>\n",
       "      <th>EXITS</th>\n",
       "      <th>turnstile_id</th>\n",
       "      <th>STATION</th>\n",
       "      <th>date</th>\n",
       "      <th>DATE_TIME</th>\n",
       "    </tr>\n",
       "  </thead>\n",
       "  <tbody>\n",
       "    <tr>\n",
       "      <th>1</th>\n",
       "      <td>11.0</td>\n",
       "      <td>11.0</td>\n",
       "      <td>A002_R051_02-00-00_59 ST</td>\n",
       "      <td>59 ST</td>\n",
       "      <td>2018-03-03</td>\n",
       "      <td>2018-03-03 07:00:00</td>\n",
       "    </tr>\n",
       "    <tr>\n",
       "      <th>2</th>\n",
       "      <td>52.0</td>\n",
       "      <td>80.0</td>\n",
       "      <td>A002_R051_02-00-00_59 ST</td>\n",
       "      <td>59 ST</td>\n",
       "      <td>2018-03-03</td>\n",
       "      <td>2018-03-03 11:00:00</td>\n",
       "    </tr>\n",
       "    <tr>\n",
       "      <th>3</th>\n",
       "      <td>183.0</td>\n",
       "      <td>45.0</td>\n",
       "      <td>A002_R051_02-00-00_59 ST</td>\n",
       "      <td>59 ST</td>\n",
       "      <td>2018-03-03</td>\n",
       "      <td>2018-03-03 15:00:00</td>\n",
       "    </tr>\n",
       "    <tr>\n",
       "      <th>4</th>\n",
       "      <td>278.0</td>\n",
       "      <td>50.0</td>\n",
       "      <td>A002_R051_02-00-00_59 ST</td>\n",
       "      <td>59 ST</td>\n",
       "      <td>2018-03-03</td>\n",
       "      <td>2018-03-03 19:00:00</td>\n",
       "    </tr>\n",
       "    <tr>\n",
       "      <th>5</th>\n",
       "      <td>161.0</td>\n",
       "      <td>31.0</td>\n",
       "      <td>A002_R051_02-00-00_59 ST</td>\n",
       "      <td>59 ST</td>\n",
       "      <td>2018-03-03</td>\n",
       "      <td>2018-03-03 23:00:00</td>\n",
       "    </tr>\n",
       "  </tbody>\n",
       "</table>\n",
       "</div>"
      ],
      "text/plain": [
       "   ENTRIES  EXITS              turnstile_id STATION       date  \\\n",
       "1     11.0   11.0  A002_R051_02-00-00_59 ST   59 ST 2018-03-03   \n",
       "2     52.0   80.0  A002_R051_02-00-00_59 ST   59 ST 2018-03-03   \n",
       "3    183.0   45.0  A002_R051_02-00-00_59 ST   59 ST 2018-03-03   \n",
       "4    278.0   50.0  A002_R051_02-00-00_59 ST   59 ST 2018-03-03   \n",
       "5    161.0   31.0  A002_R051_02-00-00_59 ST   59 ST 2018-03-03   \n",
       "\n",
       "            DATE_TIME  \n",
       "1 2018-03-03 07:00:00  \n",
       "2 2018-03-03 11:00:00  \n",
       "3 2018-03-03 15:00:00  \n",
       "4 2018-03-03 19:00:00  \n",
       "5 2018-03-03 23:00:00  "
      ]
     },
     "execution_count": 27,
     "metadata": {},
     "output_type": "execute_result"
    }
   ],
   "source": [
    "df_final.head()"
   ]
  },
  {
   "cell_type": "markdown",
   "metadata": {},
   "source": [
    "## Looks OK, check the details..."
   ]
  },
  {
   "cell_type": "code",
   "execution_count": 28,
   "metadata": {},
   "outputs": [
    {
     "data": {
      "text/plain": [
       "'\\nprint(df_final.ENTRIES.describe())\\nprint(df_final.EXITS.describe())\\n'"
      ]
     },
     "execution_count": 28,
     "metadata": {},
     "output_type": "execute_result"
    }
   ],
   "source": [
    "# Mean is negative, which is strange. Given the min val, must be a handful of massively negative outliers\n",
    "'''\n",
    "print(df_final.ENTRIES.describe())\n",
    "print(df_final.EXITS.describe())\n",
    "'''"
   ]
  },
  {
   "cell_type": "markdown",
   "metadata": {},
   "source": [
    "## Hugely negative values...lots of them."
   ]
  },
  {
   "cell_type": "code",
   "execution_count": 29,
   "metadata": {},
   "outputs": [
    {
     "data": {
      "text/plain": [
       "\"\\nneg_en_test = df_final[df_final.ENTRIES < 0]\\nneg_ex_test = df_final[df_final.EXITS < 0]\\nsum_en = neg_en_test.ENTRIES.sum()\\nsum_ex = neg_ex_test.EXITS.sum()\\nprint('negative ENTRIES count: '+str(len(neg_en_test.ENTRIES)))\\nprint('negative EXITS count: '+str(len(neg_ex_test.EXITS)))\\nprint('negative ENTRIES SUM: ' + str(sum_en))\\nprint('negative EXITS SUM: ' + str(sum_ex))\\n\""
      ]
     },
     "execution_count": 29,
     "metadata": {},
     "output_type": "execute_result"
    }
   ],
   "source": [
    "# We know the data is off, so just correct for it in the multi-doc flow...\n",
    "'''\n",
    "neg_en_test = df_final[df_final.ENTRIES < 0]\n",
    "neg_ex_test = df_final[df_final.EXITS < 0]\n",
    "sum_en = neg_en_test.ENTRIES.sum()\n",
    "sum_ex = neg_ex_test.EXITS.sum()\n",
    "print('negative ENTRIES count: '+str(len(neg_en_test.ENTRIES)))\n",
    "print('negative EXITS count: '+str(len(neg_ex_test.EXITS)))\n",
    "print('negative ENTRIES SUM: ' + str(sum_en))\n",
    "print('negative EXITS SUM: ' + str(sum_ex))\n",
    "'''"
   ]
  },
  {
   "cell_type": "code",
   "execution_count": 30,
   "metadata": {},
   "outputs": [
    {
     "name": "stderr",
     "output_type": "stream",
     "text": [
      "/Users/jas/anaconda3/lib/python3.6/site-packages/ipykernel_launcher.py:9: SettingWithCopyWarning: \n",
      "A value is trying to be set on a copy of a slice from a DataFrame.\n",
      "Try using .loc[row_indexer,col_indexer] = value instead\n",
      "\n",
      "See the caveats in the documentation: http://pandas.pydata.org/pandas-docs/stable/indexing.html#indexing-view-versus-copy\n",
      "  if __name__ == '__main__':\n",
      "/Users/jas/anaconda3/lib/python3.6/site-packages/ipykernel_launcher.py:10: SettingWithCopyWarning: \n",
      "A value is trying to be set on a copy of a slice from a DataFrame.\n",
      "Try using .loc[row_indexer,col_indexer] = value instead\n",
      "\n",
      "See the caveats in the documentation: http://pandas.pydata.org/pandas-docs/stable/indexing.html#indexing-view-versus-copy\n",
      "  # Remove the CWD from sys.path while we load stuff.\n"
     ]
    }
   ],
   "source": [
    "# removing the negatives with new DF... 'nn_df_final' (non-negative_df_final)\n",
    "#df_final['nn_entries'] = [abs(x) for x in df_final.ENTRIES]\n",
    "#df_final['nn_exits'] = [abs(x) for x in df_final.EXITS]\n",
    "\n",
    "bb\n"
   ]
  },
  {
   "cell_type": "code",
   "execution_count": 31,
   "metadata": {},
   "outputs": [
    {
     "data": {
      "text/html": [
       "<div>\n",
       "<style scoped>\n",
       "    .dataframe tbody tr th:only-of-type {\n",
       "        vertical-align: middle;\n",
       "    }\n",
       "\n",
       "    .dataframe tbody tr th {\n",
       "        vertical-align: top;\n",
       "    }\n",
       "\n",
       "    .dataframe thead th {\n",
       "        text-align: right;\n",
       "    }\n",
       "</style>\n",
       "<table border=\"1\" class=\"dataframe\">\n",
       "  <thead>\n",
       "    <tr style=\"text-align: right;\">\n",
       "      <th></th>\n",
       "      <th>turnstile_id</th>\n",
       "      <th>STATION</th>\n",
       "      <th>date</th>\n",
       "      <th>DATE_TIME</th>\n",
       "      <th>nn99_entries</th>\n",
       "      <th>nn99_exits</th>\n",
       "    </tr>\n",
       "  </thead>\n",
       "  <tbody>\n",
       "    <tr>\n",
       "      <th>1</th>\n",
       "      <td>A002_R051_02-00-00_59 ST</td>\n",
       "      <td>59 ST</td>\n",
       "      <td>2018-03-03</td>\n",
       "      <td>2018-03-03 07:00:00</td>\n",
       "      <td>11.0</td>\n",
       "      <td>11.0</td>\n",
       "    </tr>\n",
       "    <tr>\n",
       "      <th>2</th>\n",
       "      <td>A002_R051_02-00-00_59 ST</td>\n",
       "      <td>59 ST</td>\n",
       "      <td>2018-03-03</td>\n",
       "      <td>2018-03-03 11:00:00</td>\n",
       "      <td>52.0</td>\n",
       "      <td>80.0</td>\n",
       "    </tr>\n",
       "    <tr>\n",
       "      <th>3</th>\n",
       "      <td>A002_R051_02-00-00_59 ST</td>\n",
       "      <td>59 ST</td>\n",
       "      <td>2018-03-03</td>\n",
       "      <td>2018-03-03 15:00:00</td>\n",
       "      <td>183.0</td>\n",
       "      <td>45.0</td>\n",
       "    </tr>\n",
       "    <tr>\n",
       "      <th>4</th>\n",
       "      <td>A002_R051_02-00-00_59 ST</td>\n",
       "      <td>59 ST</td>\n",
       "      <td>2018-03-03</td>\n",
       "      <td>2018-03-03 19:00:00</td>\n",
       "      <td>278.0</td>\n",
       "      <td>50.0</td>\n",
       "    </tr>\n",
       "    <tr>\n",
       "      <th>5</th>\n",
       "      <td>A002_R051_02-00-00_59 ST</td>\n",
       "      <td>59 ST</td>\n",
       "      <td>2018-03-03</td>\n",
       "      <td>2018-03-03 23:00:00</td>\n",
       "      <td>161.0</td>\n",
       "      <td>31.0</td>\n",
       "    </tr>\n",
       "  </tbody>\n",
       "</table>\n",
       "</div>"
      ],
      "text/plain": [
       "               turnstile_id STATION       date           DATE_TIME  \\\n",
       "1  A002_R051_02-00-00_59 ST   59 ST 2018-03-03 2018-03-03 07:00:00   \n",
       "2  A002_R051_02-00-00_59 ST   59 ST 2018-03-03 2018-03-03 11:00:00   \n",
       "3  A002_R051_02-00-00_59 ST   59 ST 2018-03-03 2018-03-03 15:00:00   \n",
       "4  A002_R051_02-00-00_59 ST   59 ST 2018-03-03 2018-03-03 19:00:00   \n",
       "5  A002_R051_02-00-00_59 ST   59 ST 2018-03-03 2018-03-03 23:00:00   \n",
       "\n",
       "   nn99_entries  nn99_exits  \n",
       "1          11.0        11.0  \n",
       "2          52.0        80.0  \n",
       "3         183.0        45.0  \n",
       "4         278.0        50.0  \n",
       "5         161.0        31.0  "
      ]
     },
     "execution_count": 31,
     "metadata": {},
     "output_type": "execute_result"
    }
   ],
   "source": [
    "# remove anything above or below 99% quantile.\n",
    "en_q99 = df_final['nn_entries'].quantile(0.99)\n",
    "ex_q99 = df_final['nn_exits'].quantile(0.99)\n",
    "\n",
    "#df_final_c = df_final[(df_final['nn_entries'] < en_q99) & (df_final['nn_exits'] < ex_q99)]\n",
    "#df_final_c.drop(['ENTRIES','EXITS'], axis=1)\n",
    "\n",
    "df_final_c = df_final[(df_final['nn_entries'] < en_q99) & (df_final['nn_exits'] < ex_q99)].drop(['ENTRIES','EXITS'], axis=1)\n",
    "df_final_c.rename(columns={'nn_entries': 'nn99_entries', 'nn_exits': 'nn99_exits'}, inplace=True)\n",
    "df_final_c.head()"
   ]
  },
  {
   "cell_type": "markdown",
   "metadata": {},
   "source": [
    "# use 'df_final'"
   ]
  },
  {
   "cell_type": "code",
   "execution_count": 32,
   "metadata": {},
   "outputs": [
    {
     "name": "stdout",
     "output_type": "stream",
     "text": [
      "Index(['turnstile_id', 'STATION', 'date', 'DATE_TIME', 'nn99_entries',\n",
      "       'nn99_exits'],\n",
      "      dtype='object')\n",
      "Int64Index([     1,      2,      3,      4,      5,      7,      8,      9,\n",
      "                10,     11,\n",
      "            ...\n",
      "            199105, 199106, 199107, 199108, 199109, 199111, 199112, 199113,\n",
      "            199114, 199115],\n",
      "           dtype='int64', length=162895)\n"
     ]
    }
   ],
   "source": [
    "# df_final_c --> negative counts removed, highest 1% of entries/exits discarded as outliers.\n",
    "print(df_final_c.columns)\n",
    "print(df_final_c.index)"
   ]
  },
  {
   "cell_type": "code",
   "execution_count": 33,
   "metadata": {},
   "outputs": [
    {
     "data": {
      "text/html": [
       "<div>\n",
       "<style scoped>\n",
       "    .dataframe tbody tr th:only-of-type {\n",
       "        vertical-align: middle;\n",
       "    }\n",
       "\n",
       "    .dataframe tbody tr th {\n",
       "        vertical-align: top;\n",
       "    }\n",
       "\n",
       "    .dataframe thead th {\n",
       "        text-align: right;\n",
       "    }\n",
       "</style>\n",
       "<table border=\"1\" class=\"dataframe\">\n",
       "  <thead>\n",
       "    <tr style=\"text-align: right;\">\n",
       "      <th></th>\n",
       "      <th>STATION</th>\n",
       "      <th>date</th>\n",
       "      <th>turnstile_id</th>\n",
       "      <th>nn99_entries</th>\n",
       "      <th>nn99_exits</th>\n",
       "      <th>day_of_week</th>\n",
       "    </tr>\n",
       "  </thead>\n",
       "  <tbody>\n",
       "    <tr>\n",
       "      <th>1</th>\n",
       "      <td>59 ST</td>\n",
       "      <td>2018-03-03</td>\n",
       "      <td>A002_R051_02-00-00_59 ST</td>\n",
       "      <td>11.0</td>\n",
       "      <td>11.0</td>\n",
       "      <td>Saturday</td>\n",
       "    </tr>\n",
       "    <tr>\n",
       "      <th>2</th>\n",
       "      <td>59 ST</td>\n",
       "      <td>2018-03-03</td>\n",
       "      <td>A002_R051_02-00-00_59 ST</td>\n",
       "      <td>52.0</td>\n",
       "      <td>80.0</td>\n",
       "      <td>Saturday</td>\n",
       "    </tr>\n",
       "    <tr>\n",
       "      <th>3</th>\n",
       "      <td>59 ST</td>\n",
       "      <td>2018-03-03</td>\n",
       "      <td>A002_R051_02-00-00_59 ST</td>\n",
       "      <td>183.0</td>\n",
       "      <td>45.0</td>\n",
       "      <td>Saturday</td>\n",
       "    </tr>\n",
       "    <tr>\n",
       "      <th>4</th>\n",
       "      <td>59 ST</td>\n",
       "      <td>2018-03-03</td>\n",
       "      <td>A002_R051_02-00-00_59 ST</td>\n",
       "      <td>278.0</td>\n",
       "      <td>50.0</td>\n",
       "      <td>Saturday</td>\n",
       "    </tr>\n",
       "    <tr>\n",
       "      <th>5</th>\n",
       "      <td>59 ST</td>\n",
       "      <td>2018-03-03</td>\n",
       "      <td>A002_R051_02-00-00_59 ST</td>\n",
       "      <td>161.0</td>\n",
       "      <td>31.0</td>\n",
       "      <td>Saturday</td>\n",
       "    </tr>\n",
       "  </tbody>\n",
       "</table>\n",
       "</div>"
      ],
      "text/plain": [
       "  STATION       date              turnstile_id  nn99_entries  nn99_exits  \\\n",
       "1   59 ST 2018-03-03  A002_R051_02-00-00_59 ST          11.0        11.0   \n",
       "2   59 ST 2018-03-03  A002_R051_02-00-00_59 ST          52.0        80.0   \n",
       "3   59 ST 2018-03-03  A002_R051_02-00-00_59 ST         183.0        45.0   \n",
       "4   59 ST 2018-03-03  A002_R051_02-00-00_59 ST         278.0        50.0   \n",
       "5   59 ST 2018-03-03  A002_R051_02-00-00_59 ST         161.0        31.0   \n",
       "\n",
       "  day_of_week  \n",
       "1    Saturday  \n",
       "2    Saturday  \n",
       "3    Saturday  \n",
       "4    Saturday  \n",
       "5    Saturday  "
      ]
     },
     "execution_count": 33,
     "metadata": {},
     "output_type": "execute_result"
    }
   ],
   "source": [
    "df_final_date = df_final_c[['STATION', 'date', 'turnstile_id', 'nn99_entries', 'nn99_exits']] # cut DATE_TIME out here..\n",
    "df_final_date['day_of_week'] = df_final_date['date'].dt.weekday_name\n",
    "df_final_date.head()"
   ]
  },
  {
   "cell_type": "markdown",
   "metadata": {},
   "source": [
    "# This is where multi-weeks could get tricky..."
   ]
  },
  {
   "cell_type": "markdown",
   "metadata": {},
   "source": [
    "### Build df to summarize stations by DATE"
   ]
  },
  {
   "cell_type": "code",
   "execution_count": 34,
   "metadata": {},
   "outputs": [
    {
     "data": {
      "text/plain": [
       "Int64Index([     1,      2,      3,      4,      5,      7,      8,      9,\n",
       "                10,     11,\n",
       "            ...\n",
       "            199105, 199106, 199107, 199108, 199109, 199111, 199112, 199113,\n",
       "            199114, 199115],\n",
       "           dtype='int64', length=162895)"
      ]
     },
     "execution_count": 34,
     "metadata": {},
     "output_type": "execute_result"
    }
   ],
   "source": [
    "#df_final_date = df_final_date.set_index('date')\n",
    "df_final_date.index"
   ]
  },
  {
   "cell_type": "code",
   "execution_count": 35,
   "metadata": {
    "scrolled": true
   },
   "outputs": [
    {
     "name": "stdout",
     "output_type": "stream",
     "text": [
      "  STATION       date  nn99_entries  nn99_exits day_of_week\n",
      "0    1 AV 2018-03-03       14745.0     14317.0    Saturday\n",
      "1    1 AV 2018-03-04       11946.0     13740.0      Sunday\n",
      "2    1 AV 2018-03-05       14398.0     14455.0      Monday\n",
      "3    1 AV 2018-03-06       12628.0     12199.0     Tuesday\n",
      "4    1 AV 2018-03-07       13634.0     14438.0   Wednesday\n",
      "<class 'pandas.core.frame.DataFrame'>\n",
      "RangeIndex: 2603 entries, 0 to 2602\n",
      "Data columns (total 5 columns):\n",
      "STATION         2603 non-null object\n",
      "date            2603 non-null datetime64[ns]\n",
      "nn99_entries    2603 non-null float64\n",
      "nn99_exits      2603 non-null float64\n",
      "day_of_week     2603 non-null object\n",
      "dtypes: datetime64[ns](1), float64(2), object(2)\n",
      "memory usage: 101.8+ KB\n",
      "None\n"
     ]
    }
   ],
   "source": [
    "df_final_date = df_final_date.groupby(['STATION', 'date'])[['nn99_entries', 'nn99_exits']].sum()\n",
    "df_final_date.reset_index(inplace=True)\n",
    "df_final_date['day_of_week'] = df_final_date['date'].dt.weekday_name\n",
    "#df_final_date.sort_values(by=['STATION', 'day_of_week'])\n",
    "print(df_final_date.head())\n",
    "print(df_final_date.info()) # 1st week data... 2603 rows. Check with multi-weeks"
   ]
  },
  {
   "cell_type": "code",
   "execution_count": 36,
   "metadata": {},
   "outputs": [
    {
     "name": "stdout",
     "output_type": "stream",
     "text": [
      "<class 'pandas.core.frame.DataFrame'>\n",
      "DatetimeIndex: 2603 entries, 2018-03-03 to 2018-03-09\n",
      "Data columns (total 4 columns):\n",
      "STATION         2603 non-null object\n",
      "nn99_entries    2603 non-null float64\n",
      "nn99_exits      2603 non-null float64\n",
      "day_of_week     2603 non-null object\n",
      "dtypes: float64(2), object(2)\n",
      "memory usage: 101.7+ KB\n",
      "None\n",
      "           STATION  nn99_entries  nn99_exits day_of_week\n",
      "date                                                    \n",
      "2018-03-03    1 AV       14745.0     14317.0    Saturday\n",
      "2018-03-04    1 AV       11946.0     13740.0      Sunday\n",
      "2018-03-05    1 AV       14398.0     14455.0      Monday\n",
      "2018-03-06    1 AV       12628.0     12199.0     Tuesday\n",
      "2018-03-07    1 AV       13634.0     14438.0   Wednesday\n"
     ]
    }
   ],
   "source": [
    "# trial 1 to see if resampling of multiple datasets is functional\n",
    "df_final_date = df_final_date.set_index('date')\n",
    "df_final_date.groupby('STATION').resample('D').mean()\n",
    "print(df_final_date.info())\n",
    "print(df_final_date.head())"
   ]
  },
  {
   "cell_type": "code",
   "execution_count": null,
   "metadata": {},
   "outputs": [],
   "source": []
  },
  {
   "cell_type": "markdown",
   "metadata": {},
   "source": [
    "### Build df to summarize stations by DATE_TIME"
   ]
  },
  {
   "cell_type": "code",
   "execution_count": 37,
   "metadata": {
    "scrolled": true
   },
   "outputs": [
    {
     "data": {
      "text/html": [
       "<div>\n",
       "<style scoped>\n",
       "    .dataframe tbody tr th:only-of-type {\n",
       "        vertical-align: middle;\n",
       "    }\n",
       "\n",
       "    .dataframe tbody tr th {\n",
       "        vertical-align: top;\n",
       "    }\n",
       "\n",
       "    .dataframe thead th {\n",
       "        text-align: right;\n",
       "    }\n",
       "</style>\n",
       "<table border=\"1\" class=\"dataframe\">\n",
       "  <thead>\n",
       "    <tr style=\"text-align: right;\">\n",
       "      <th></th>\n",
       "      <th>STATION</th>\n",
       "      <th>DATE_TIME</th>\n",
       "      <th>nn99_entries</th>\n",
       "      <th>nn99_exits</th>\n",
       "    </tr>\n",
       "  </thead>\n",
       "  <tbody>\n",
       "    <tr>\n",
       "      <th>20377</th>\n",
       "      <td>PATH WTC 2</td>\n",
       "      <td>2018-03-08 05:40:36</td>\n",
       "      <td>0.0</td>\n",
       "      <td>6.0</td>\n",
       "    </tr>\n",
       "    <tr>\n",
       "      <th>10712</th>\n",
       "      <td>FOREST HILLS 71</td>\n",
       "      <td>2018-03-08 16:00:00</td>\n",
       "      <td>4719.0</td>\n",
       "      <td>2803.0</td>\n",
       "    </tr>\n",
       "    <tr>\n",
       "      <th>490</th>\n",
       "      <td>135 ST</td>\n",
       "      <td>2018-03-08 11:00:00</td>\n",
       "      <td>5478.0</td>\n",
       "      <td>923.0</td>\n",
       "    </tr>\n",
       "    <tr>\n",
       "      <th>6587</th>\n",
       "      <td>BEVERLY RD</td>\n",
       "      <td>2018-03-09 11:00:00</td>\n",
       "      <td>2133.0</td>\n",
       "      <td>103.0</td>\n",
       "    </tr>\n",
       "    <tr>\n",
       "      <th>10266</th>\n",
       "      <td>EXCHANGE PLACE</td>\n",
       "      <td>2018-03-08 10:09:16</td>\n",
       "      <td>537.0</td>\n",
       "      <td>105.0</td>\n",
       "    </tr>\n",
       "    <tr>\n",
       "      <th>13419</th>\n",
       "      <td>JOURNAL SQUARE</td>\n",
       "      <td>2018-03-04 17:06:43</td>\n",
       "      <td>6.0</td>\n",
       "      <td>177.0</td>\n",
       "    </tr>\n",
       "    <tr>\n",
       "      <th>4220</th>\n",
       "      <td>72 ST</td>\n",
       "      <td>2018-03-07 15:00:00</td>\n",
       "      <td>1513.0</td>\n",
       "      <td>1071.0</td>\n",
       "    </tr>\n",
       "    <tr>\n",
       "      <th>13051</th>\n",
       "      <td>JAMAICA CENTER</td>\n",
       "      <td>2018-03-04 19:00:00</td>\n",
       "      <td>2514.0</td>\n",
       "      <td>2899.0</td>\n",
       "    </tr>\n",
       "    <tr>\n",
       "      <th>13289</th>\n",
       "      <td>JOURNAL SQUARE</td>\n",
       "      <td>2018-03-03 10:42:43</td>\n",
       "      <td>26.0</td>\n",
       "      <td>3.0</td>\n",
       "    </tr>\n",
       "    <tr>\n",
       "      <th>15729</th>\n",
       "      <td>MYRTLE-WILLOUGH</td>\n",
       "      <td>2018-03-08 20:00:00</td>\n",
       "      <td>1087.0</td>\n",
       "      <td>1217.0</td>\n",
       "    </tr>\n",
       "  </tbody>\n",
       "</table>\n",
       "</div>"
      ],
      "text/plain": [
       "               STATION           DATE_TIME  nn99_entries  nn99_exits\n",
       "20377       PATH WTC 2 2018-03-08 05:40:36           0.0         6.0\n",
       "10712  FOREST HILLS 71 2018-03-08 16:00:00        4719.0      2803.0\n",
       "490             135 ST 2018-03-08 11:00:00        5478.0       923.0\n",
       "6587        BEVERLY RD 2018-03-09 11:00:00        2133.0       103.0\n",
       "10266   EXCHANGE PLACE 2018-03-08 10:09:16         537.0       105.0\n",
       "13419   JOURNAL SQUARE 2018-03-04 17:06:43           6.0       177.0\n",
       "4220             72 ST 2018-03-07 15:00:00        1513.0      1071.0\n",
       "13051   JAMAICA CENTER 2018-03-04 19:00:00        2514.0      2899.0\n",
       "13289   JOURNAL SQUARE 2018-03-03 10:42:43          26.0         3.0\n",
       "15729  MYRTLE-WILLOUGH 2018-03-08 20:00:00        1087.0      1217.0"
      ]
     },
     "execution_count": 37,
     "metadata": {},
     "output_type": "execute_result"
    }
   ],
   "source": [
    "df_final_datetime = df_final_c[['DATE_TIME', 'STATION', 'nn99_entries', 'nn99_exits', 'turnstile_id']]\n",
    "df_final_datetime = df_final_datetime.groupby(['STATION', 'DATE_TIME'])[['nn99_entries','nn99_exits']].sum()\n",
    "df_final_datetime.reset_index(inplace=True)\n",
    "df_final_datetime.sample(10)\n"
   ]
  },
  {
   "cell_type": "markdown",
   "metadata": {},
   "source": [
    "## top 10 stations"
   ]
  },
  {
   "cell_type": "code",
   "execution_count": 38,
   "metadata": {
    "scrolled": true
   },
   "outputs": [
    {
     "data": {
      "text/plain": [
       "Index(['34 ST-PENN STA', '23 ST', '34 ST-HERALD SQ', 'TIMES SQ-42 ST',\n",
       "       'GRD CNTRL-42 ST', 'FULTON ST', '42 ST-PORT AUTH', '125 ST', '86 ST',\n",
       "       '59 ST'],\n",
       "      dtype='object', name='STATION')"
      ]
     },
     "execution_count": 38,
     "metadata": {},
     "output_type": "execute_result"
    }
   ],
   "source": [
    "top10_stations = df_final_datetime.groupby('STATION')[['nn99_entries','nn99_exits']].sum()\n",
    "top10_stations.sort_values('nn99_entries', ascending=False, inplace=True)\n",
    "top10_list = top10_stations.index[:10]\n",
    "top10_list"
   ]
  },
  {
   "cell_type": "markdown",
   "metadata": {},
   "source": [
    "## Resampling..."
   ]
  },
  {
   "cell_type": "code",
   "execution_count": 39,
   "metadata": {},
   "outputs": [],
   "source": [
    "#df_final_datetime.DATE_TIME.resample('H')\n",
    "#hourly_counts = df_final_datetime.DATE_TIME.DatetimeIndex.resample('H', how='mean')"
   ]
  },
  {
   "cell_type": "code",
   "execution_count": 40,
   "metadata": {
    "scrolled": false
   },
   "outputs": [
    {
     "data": {
      "text/plain": [
       "DatetimeIndex(['2018-03-03 07:00:00', '2018-03-03 11:00:00',\n",
       "               '2018-03-03 15:00:00', '2018-03-03 19:00:00',\n",
       "               '2018-03-03 23:00:00', '2018-03-04 07:00:00',\n",
       "               '2018-03-04 11:00:00', '2018-03-04 15:00:00',\n",
       "               '2018-03-04 19:00:00', '2018-03-04 23:00:00',\n",
       "               ...\n",
       "               '2018-03-08 04:00:00', '2018-03-08 08:00:00',\n",
       "               '2018-03-08 12:00:00', '2018-03-08 16:00:00',\n",
       "               '2018-03-08 20:00:00', '2018-03-09 04:00:00',\n",
       "               '2018-03-09 08:00:00', '2018-03-09 12:00:00',\n",
       "               '2018-03-09 16:00:00', '2018-03-09 20:00:00'],\n",
       "              dtype='datetime64[ns]', name='DATE_TIME', length=24142, freq=None)"
      ]
     },
     "execution_count": 40,
     "metadata": {},
     "output_type": "execute_result"
    }
   ],
   "source": [
    "df_final_datetime_dti = df_final_datetime.set_index('DATE_TIME')\n",
    "df_final_datetime_dti.index"
   ]
  },
  {
   "cell_type": "markdown",
   "metadata": {},
   "source": [
    "## Good until here --> keep going!"
   ]
  },
  {
   "cell_type": "code",
   "execution_count": 41,
   "metadata": {},
   "outputs": [
    {
     "data": {
      "text/plain": [
       "DatetimeIndexResampler [freq=<Hour>, axis=0, closed=left, label=left, convention=start, base=0]"
      ]
     },
     "execution_count": 41,
     "metadata": {},
     "output_type": "execute_result"
    }
   ],
   "source": [
    "dti_re = df_final_datetime_dti.resample('H')\n",
    "dti_re"
   ]
  },
  {
   "cell_type": "code",
   "execution_count": 42,
   "metadata": {},
   "outputs": [
    {
     "ename": "AttributeError",
     "evalue": "'DataFrame' object has no attribute 'backfill'",
     "output_type": "error",
     "traceback": [
      "\u001b[0;31m---------------------------------------------------------------------------\u001b[0m",
      "\u001b[0;31mAttributeError\u001b[0m                            Traceback (most recent call last)",
      "\u001b[0;32m<ipython-input-42-5a8a5e279a66>\u001b[0m in \u001b[0;36m<module>\u001b[0;34m()\u001b[0m\n\u001b[0;32m----> 1\u001b[0;31m \u001b[0mdf_final_datetime_dti\u001b[0m\u001b[0;34m.\u001b[0m\u001b[0mbackfill\u001b[0m\u001b[0;34m(\u001b[0m\u001b[0;34m)\u001b[0m\u001b[0;34m\u001b[0m\u001b[0m\n\u001b[0m",
      "\u001b[0;32m~/anaconda3/lib/python3.6/site-packages/pandas/core/generic.py\u001b[0m in \u001b[0;36m__getattr__\u001b[0;34m(self, name)\u001b[0m\n\u001b[1;32m   3612\u001b[0m             \u001b[0;32mif\u001b[0m \u001b[0mname\u001b[0m \u001b[0;32min\u001b[0m \u001b[0mself\u001b[0m\u001b[0;34m.\u001b[0m\u001b[0m_info_axis\u001b[0m\u001b[0;34m:\u001b[0m\u001b[0;34m\u001b[0m\u001b[0m\n\u001b[1;32m   3613\u001b[0m                 \u001b[0;32mreturn\u001b[0m \u001b[0mself\u001b[0m\u001b[0;34m[\u001b[0m\u001b[0mname\u001b[0m\u001b[0;34m]\u001b[0m\u001b[0;34m\u001b[0m\u001b[0m\n\u001b[0;32m-> 3614\u001b[0;31m             \u001b[0;32mreturn\u001b[0m \u001b[0mobject\u001b[0m\u001b[0;34m.\u001b[0m\u001b[0m__getattribute__\u001b[0m\u001b[0;34m(\u001b[0m\u001b[0mself\u001b[0m\u001b[0;34m,\u001b[0m \u001b[0mname\u001b[0m\u001b[0;34m)\u001b[0m\u001b[0;34m\u001b[0m\u001b[0m\n\u001b[0m\u001b[1;32m   3615\u001b[0m \u001b[0;34m\u001b[0m\u001b[0m\n\u001b[1;32m   3616\u001b[0m     \u001b[0;32mdef\u001b[0m \u001b[0m__setattr__\u001b[0m\u001b[0;34m(\u001b[0m\u001b[0mself\u001b[0m\u001b[0;34m,\u001b[0m \u001b[0mname\u001b[0m\u001b[0;34m,\u001b[0m \u001b[0mvalue\u001b[0m\u001b[0;34m)\u001b[0m\u001b[0;34m:\u001b[0m\u001b[0;34m\u001b[0m\u001b[0m\n",
      "\u001b[0;31mAttributeError\u001b[0m: 'DataFrame' object has no attribute 'backfill'"
     ]
    }
   ],
   "source": [
    "df_final_datetime_dti.backfill()"
   ]
  },
  {
   "cell_type": "code",
   "execution_count": null,
   "metadata": {},
   "outputs": [],
   "source": [
    "# https://pandas.pydata.org/pandas-docs/stable/generated/pandas.core.resample.Resampler.aggregate.html\n",
    "''' upsampled = series.resample('D')\n",
    "    interpolated = upsampled.interpolate(method='spline', order=2)\n",
    "'''\n",
    "dti_re.agg({'STATIONS': lambda x: x in x, 'nn99_entries': lambda x: x/4, 'nn99_exits': lambda x: x/4})"
   ]
  },
  {
   "cell_type": "markdown",
   "metadata": {},
   "source": [
    "## testing resampling processes...\n",
    "- 1. use lambda function within resampled series to define what exactly to do with other column values\n",
    "- 2. cut resampled info out to build it, then rematch it to dataframe with merge/join/other???"
   ]
  },
  {
   "cell_type": "markdown",
   "metadata": {},
   "source": [
    "## Now to visualize..."
   ]
  },
  {
   "cell_type": "markdown",
   "metadata": {},
   "source": [
    "# - BONUS - We can drill into specific stations for visuals, if wanted / needed..."
   ]
  },
  {
   "cell_type": "code",
   "execution_count": null,
   "metadata": {},
   "outputs": [],
   "source": [
    "df_59st = df_final_datetime[df_final_datetime.STATION == '59 ST']\n",
    "df_59st.sample(10)"
   ]
  },
  {
   "cell_type": "code",
   "execution_count": null,
   "metadata": {},
   "outputs": [],
   "source": [
    "#df_59st.groupby('day_of_week')[['ENTRIES','EXITS']].sum()"
   ]
  },
  {
   "cell_type": "code",
   "execution_count": null,
   "metadata": {
    "scrolled": true
   },
   "outputs": [],
   "source": [
    "kelly_df = df_final_datetime.groupby(['STATION', 'date'], as_index=False).sum()\n",
    "kelly_df.set_index('STATION', inplace=True)\n",
    "kelly_df.sample(50)"
   ]
  },
  {
   "cell_type": "code",
   "execution_count": null,
   "metadata": {},
   "outputs": [],
   "source": [
    "#kelly_df.to_csv(r'\\Users\\jas\\Desktop\\jstationcsv.csv')"
   ]
  }
 ],
 "metadata": {
  "kernelspec": {
   "display_name": "Python 3",
   "language": "python",
   "name": "python3"
  },
  "language_info": {
   "codemirror_mode": {
    "name": "ipython",
    "version": 3
   },
   "file_extension": ".py",
   "mimetype": "text/x-python",
   "name": "python",
   "nbconvert_exporter": "python",
   "pygments_lexer": "ipython3",
   "version": "3.6.4"
  }
 },
 "nbformat": 4,
 "nbformat_minor": 2
}
